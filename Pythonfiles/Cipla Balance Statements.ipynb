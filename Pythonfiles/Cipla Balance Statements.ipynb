{
 "cells": [
  {
   "cell_type": "markdown",
   "metadata": {},
   "source": [
    "# Loading Packages"
   ]
  },
  {
   "cell_type": "code",
   "execution_count": 1,
   "metadata": {
    "ExecuteTime": {
     "end_time": "2020-02-13T10:34:16.565662Z",
     "start_time": "2020-02-13T10:34:03.218387Z"
    }
   },
   "outputs": [],
   "source": [
    "from tabula import read_pdf\n",
    "from tabulate import tabulate\n",
    "import PyPDF2 as pdf\n",
    "import re"
   ]
  },
  {
   "cell_type": "markdown",
   "metadata": {},
   "source": [
    "# For 2018-19"
   ]
  },
  {
   "cell_type": "markdown",
   "metadata": {},
   "source": [
    "## Consolidated Balance Sheet   (Causing Problem printing p&l instead of balance sheet)"
   ]
  },
  {
   "cell_type": "code",
   "execution_count": 2,
   "metadata": {
    "ExecuteTime": {
     "end_time": "2020-02-13T10:35:33.956066Z",
     "start_time": "2020-02-13T10:34:16.569652Z"
    }
   },
   "outputs": [
    {
     "name": "stderr",
     "output_type": "stream",
     "text": [
      "'pages' argument isn't specified.Will extract only from page 1 by default.\n"
     ]
    },
    {
     "name": "stdout",
     "output_type": "stream",
     "text": [
      "This is page 249\n"
     ]
    },
    {
     "name": "stderr",
     "output_type": "stream",
     "text": [
      "'pages' argument isn't specified.Will extract only from page 1 by default.\n"
     ]
    },
    {
     "name": "stdout",
     "output_type": "stream",
     "text": [
      "This is page 259\n"
     ]
    }
   ],
   "source": [
    "# open the pdf file\n",
    "object = pdf.PdfFileReader(\"Cipla AR 2018-19-2.pdf\")\n",
    "\n",
    "# get number of pages\n",
    "NumPages = object.getNumPages()\n",
    "\n",
    "# define keyterms\n",
    "String1 = \"Consolidated Balance Sheet\"\n",
    "# String2 = \"Firm Registration Number: 101248W/W-100022\"\n",
    "# String3 = \"\"\n",
    "# extract text and do the search\n",
    "for i in range(0, NumPages):\n",
    "    PageObj = object.getPage(i)\n",
    "    Text = PageObj.extractText() \n",
    "    # print(Text)\n",
    "    if  re.search(String1, Text) != None :\n",
    "        print(\"This is page \" + str(i))\n",
    "        page=object.getPage(i)\n",
    "        pdf_writer=pdf.PdfFileWriter()\n",
    "        pdf_writer.addPage(page)\n",
    "        output=open('balancesheet_1819.pdf','wb')\n",
    "        pdf_writer.write(output)\n",
    "        output.close()\n",
    "        df=read_pdf('balancesheet_1819.pdf')"
   ]
  },
  {
   "cell_type": "markdown",
   "metadata": {},
   "source": [
    "## Consolidated Profit and Loss"
   ]
  },
  {
   "cell_type": "code",
   "execution_count": 3,
   "metadata": {
    "ExecuteTime": {
     "end_time": "2020-02-13T10:36:52.496631Z",
     "start_time": "2020-02-13T10:35:33.961047Z"
    }
   },
   "outputs": [
    {
     "name": "stderr",
     "output_type": "stream",
     "text": [
      "'pages' argument isn't specified.Will extract only from page 1 by default.\n"
     ]
    },
    {
     "name": "stdout",
     "output_type": "stream",
     "text": [
      "This is page 249\n"
     ]
    },
    {
     "name": "stderr",
     "output_type": "stream",
     "text": [
      "'pages' argument isn't specified.Will extract only from page 1 by default.\n"
     ]
    },
    {
     "name": "stdout",
     "output_type": "stream",
     "text": [
      "This is page 260\n"
     ]
    },
    {
     "data": {
      "text/html": [
       "<div>\n",
       "<style scoped>\n",
       "    .dataframe tbody tr th:only-of-type {\n",
       "        vertical-align: middle;\n",
       "    }\n",
       "\n",
       "    .dataframe tbody tr th {\n",
       "        vertical-align: top;\n",
       "    }\n",
       "\n",
       "    .dataframe thead th {\n",
       "        text-align: right;\n",
       "    }\n",
       "</style>\n",
       "<table border=\"1\" class=\"dataframe\">\n",
       "  <thead>\n",
       "    <tr style=\"text-align: right;\">\n",
       "      <th></th>\n",
       "      <th>Particulars</th>\n",
       "      <th>Notes</th>\n",
       "      <th>For the year ended</th>\n",
       "      <th>For the year ended.1</th>\n",
       "    </tr>\n",
       "  </thead>\n",
       "  <tbody>\n",
       "    <tr>\n",
       "      <th>0</th>\n",
       "      <td>NaN</td>\n",
       "      <td>NaN</td>\n",
       "      <td>31st March, 2019</td>\n",
       "      <td>31st March, 2018</td>\n",
       "    </tr>\n",
       "    <tr>\n",
       "      <th>1</th>\n",
       "      <td>(1) Income</td>\n",
       "      <td>NaN</td>\n",
       "      <td>NaN</td>\n",
       "      <td>NaN</td>\n",
       "    </tr>\n",
       "    <tr>\n",
       "      <th>2</th>\n",
       "      <td>(a) Revenue from operations</td>\n",
       "      <td>NaN</td>\n",
       "      <td>NaN</td>\n",
       "      <td>NaN</td>\n",
       "    </tr>\n",
       "    <tr>\n",
       "      <th>3</th>\n",
       "      <td>(i) Revenue from sale of products</td>\n",
       "      <td>30.0</td>\n",
       "      <td>15,970.97</td>\n",
       "      <td>14,750.86</td>\n",
       "    </tr>\n",
       "    <tr>\n",
       "      <th>4</th>\n",
       "      <td>(ii) Other operating revenue</td>\n",
       "      <td>31.0</td>\n",
       "      <td>391.44</td>\n",
       "      <td>468.39</td>\n",
       "    </tr>\n",
       "    <tr>\n",
       "      <th>5</th>\n",
       "      <td>NaN</td>\n",
       "      <td>NaN</td>\n",
       "      <td>16,362.41</td>\n",
       "      <td>15,219.25</td>\n",
       "    </tr>\n",
       "    <tr>\n",
       "      <th>6</th>\n",
       "      <td>(b) Other income</td>\n",
       "      <td>32.0</td>\n",
       "      <td>476.57</td>\n",
       "      <td>357.65</td>\n",
       "    </tr>\n",
       "    <tr>\n",
       "      <th>7</th>\n",
       "      <td>Total income</td>\n",
       "      <td>NaN</td>\n",
       "      <td>16,838.98</td>\n",
       "      <td>15,576.90</td>\n",
       "    </tr>\n",
       "    <tr>\n",
       "      <th>8</th>\n",
       "      <td>(2) Expenditure</td>\n",
       "      <td>NaN</td>\n",
       "      <td>NaN</td>\n",
       "      <td>NaN</td>\n",
       "    </tr>\n",
       "    <tr>\n",
       "      <th>9</th>\n",
       "      <td>(a) Cost of materials consumed</td>\n",
       "      <td>33.0</td>\n",
       "      <td>4,285.04</td>\n",
       "      <td>4,497.16</td>\n",
       "    </tr>\n",
       "    <tr>\n",
       "      <th>10</th>\n",
       "      <td>(b) Purchases of stock-in-trade</td>\n",
       "      <td>34.0</td>\n",
       "      <td>1,452.41</td>\n",
       "      <td>1,174.20</td>\n",
       "    </tr>\n",
       "    <tr>\n",
       "      <th>11</th>\n",
       "      <td>(c) Changes in inventories of finished goods, ...</td>\n",
       "      <td>NaN</td>\n",
       "      <td>NaN</td>\n",
       "      <td>NaN</td>\n",
       "    </tr>\n",
       "    <tr>\n",
       "      <th>12</th>\n",
       "      <td>stock-in-trade</td>\n",
       "      <td>35.0</td>\n",
       "      <td>47.04</td>\n",
       "      <td>(232.94)</td>\n",
       "    </tr>\n",
       "    <tr>\n",
       "      <th>13</th>\n",
       "      <td>(d) Employee benefits expense</td>\n",
       "      <td>36.0</td>\n",
       "      <td>2,856.53</td>\n",
       "      <td>2,690.10</td>\n",
       "    </tr>\n",
       "    <tr>\n",
       "      <th>14</th>\n",
       "      <td>(e) Finance costs</td>\n",
       "      <td>37.0</td>\n",
       "      <td>168.43</td>\n",
       "      <td>114.23</td>\n",
       "    </tr>\n",
       "    <tr>\n",
       "      <th>15</th>\n",
       "      <td>(f) Depreciation, impairment and amortisation ...</td>\n",
       "      <td>38.0</td>\n",
       "      <td>1,326.31</td>\n",
       "      <td>1,322.82</td>\n",
       "    </tr>\n",
       "    <tr>\n",
       "      <th>16</th>\n",
       "      <td>(g) Other expenses</td>\n",
       "      <td>39.0</td>\n",
       "      <td>4,624.08</td>\n",
       "      <td>4,264.35</td>\n",
       "    </tr>\n",
       "    <tr>\n",
       "      <th>17</th>\n",
       "      <td>Total expenditure</td>\n",
       "      <td>NaN</td>\n",
       "      <td>14,759.84</td>\n",
       "      <td>13,829.92</td>\n",
       "    </tr>\n",
       "    <tr>\n",
       "      <th>18</th>\n",
       "      <td>(3) Profit before exceptional items and tax</td>\n",
       "      <td>NaN</td>\n",
       "      <td>2,079.14</td>\n",
       "      <td>1,746.98</td>\n",
       "    </tr>\n",
       "    <tr>\n",
       "      <th>19</th>\n",
       "      <td>(4) Exceptional item</td>\n",
       "      <td>52.0</td>\n",
       "      <td>-</td>\n",
       "      <td>77.52</td>\n",
       "    </tr>\n",
       "    <tr>\n",
       "      <th>20</th>\n",
       "      <td>(5) Profit before tax</td>\n",
       "      <td>NaN</td>\n",
       "      <td>2,079.14</td>\n",
       "      <td>1,669.46</td>\n",
       "    </tr>\n",
       "    <tr>\n",
       "      <th>21</th>\n",
       "      <td>(6) Tax expense (net)</td>\n",
       "      <td>NaN</td>\n",
       "      <td>NaN</td>\n",
       "      <td>NaN</td>\n",
       "    </tr>\n",
       "    <tr>\n",
       "      <th>22</th>\n",
       "      <td>(a) Current tax</td>\n",
       "      <td>10.0</td>\n",
       "      <td>747.70</td>\n",
       "      <td>561.06</td>\n",
       "    </tr>\n",
       "    <tr>\n",
       "      <th>23</th>\n",
       "      <td>(b) Deferred tax</td>\n",
       "      <td>10.0</td>\n",
       "      <td>(178.17)</td>\n",
       "      <td>(310.95)</td>\n",
       "    </tr>\n",
       "    <tr>\n",
       "      <th>24</th>\n",
       "      <td>(7) Profit after tax before share of profit/(l...</td>\n",
       "      <td>NaN</td>\n",
       "      <td>1,509.61</td>\n",
       "      <td>1,419.35</td>\n",
       "    </tr>\n",
       "    <tr>\n",
       "      <th>25</th>\n",
       "      <td>(8) Share of profit/(loss) from associates</td>\n",
       "      <td>44.0</td>\n",
       "      <td>(17.17)</td>\n",
       "      <td>(2.78)</td>\n",
       "    </tr>\n",
       "    <tr>\n",
       "      <th>26</th>\n",
       "      <td>(9) Profit for the year</td>\n",
       "      <td>NaN</td>\n",
       "      <td>1,492.44</td>\n",
       "      <td>1,416.57</td>\n",
       "    </tr>\n",
       "    <tr>\n",
       "      <th>27</th>\n",
       "      <td>(10) Other comprehensive income/(loss)</td>\n",
       "      <td>40.0</td>\n",
       "      <td>NaN</td>\n",
       "      <td>NaN</td>\n",
       "    </tr>\n",
       "    <tr>\n",
       "      <th>28</th>\n",
       "      <td>(a) (i) Items that will not be reclassified to...</td>\n",
       "      <td>NaN</td>\n",
       "      <td>42.51</td>\n",
       "      <td>28.41</td>\n",
       "    </tr>\n",
       "    <tr>\n",
       "      <th>29</th>\n",
       "      <td>(ii) Income tax relating to these items</td>\n",
       "      <td>NaN</td>\n",
       "      <td>(7.60)</td>\n",
       "      <td>(4.11)</td>\n",
       "    </tr>\n",
       "    <tr>\n",
       "      <th>30</th>\n",
       "      <td>(b) (i) Items that will be reclassified to pro...</td>\n",
       "      <td>NaN</td>\n",
       "      <td>(312.63)</td>\n",
       "      <td>382.73</td>\n",
       "    </tr>\n",
       "    <tr>\n",
       "      <th>31</th>\n",
       "      <td>(ii) Income tax relating to these items</td>\n",
       "      <td>NaN</td>\n",
       "      <td>(12.22)</td>\n",
       "      <td>(13.50)</td>\n",
       "    </tr>\n",
       "    <tr>\n",
       "      <th>32</th>\n",
       "      <td>Other comprehensive income/(loss) for the year</td>\n",
       "      <td>NaN</td>\n",
       "      <td>(289.94)</td>\n",
       "      <td>393.53</td>\n",
       "    </tr>\n",
       "    <tr>\n",
       "      <th>33</th>\n",
       "      <td>(11) Total comprehensive income for the year</td>\n",
       "      <td>NaN</td>\n",
       "      <td>1,202.50</td>\n",
       "      <td>1,810.10</td>\n",
       "    </tr>\n",
       "    <tr>\n",
       "      <th>34</th>\n",
       "      <td>(12) Profit for the year attributable to</td>\n",
       "      <td>NaN</td>\n",
       "      <td>NaN</td>\n",
       "      <td>NaN</td>\n",
       "    </tr>\n",
       "    <tr>\n",
       "      <th>35</th>\n",
       "      <td>(a) Owners</td>\n",
       "      <td>NaN</td>\n",
       "      <td>1,527.70</td>\n",
       "      <td>1,410.53</td>\n",
       "    </tr>\n",
       "    <tr>\n",
       "      <th>36</th>\n",
       "      <td>(b) Non-controlling interest</td>\n",
       "      <td>NaN</td>\n",
       "      <td>(35.26)</td>\n",
       "      <td>6.04</td>\n",
       "    </tr>\n",
       "    <tr>\n",
       "      <th>37</th>\n",
       "      <td>(13) Total comprehensive income attributable to</td>\n",
       "      <td>NaN</td>\n",
       "      <td>NaN</td>\n",
       "      <td>NaN</td>\n",
       "    </tr>\n",
       "    <tr>\n",
       "      <th>38</th>\n",
       "      <td>(a) Owners</td>\n",
       "      <td>NaN</td>\n",
       "      <td>1,220.23</td>\n",
       "      <td>1,764.52</td>\n",
       "    </tr>\n",
       "    <tr>\n",
       "      <th>39</th>\n",
       "      <td>(b) Non-controlling interest</td>\n",
       "      <td>NaN</td>\n",
       "      <td>(17.73)</td>\n",
       "      <td>45.58</td>\n",
       "    </tr>\n",
       "    <tr>\n",
       "      <th>40</th>\n",
       "      <td>(14) Earnings per equity share of face value o...</td>\n",
       "      <td>41.0</td>\n",
       "      <td>NaN</td>\n",
       "      <td>NaN</td>\n",
       "    </tr>\n",
       "    <tr>\n",
       "      <th>41</th>\n",
       "      <td>Basic (in H)</td>\n",
       "      <td>NaN</td>\n",
       "      <td>18.97</td>\n",
       "      <td>17.53</td>\n",
       "    </tr>\n",
       "    <tr>\n",
       "      <th>42</th>\n",
       "      <td>Diluted (in H)</td>\n",
       "      <td>NaN</td>\n",
       "      <td>18.93</td>\n",
       "      <td>17.50</td>\n",
       "    </tr>\n",
       "  </tbody>\n",
       "</table>\n",
       "</div>"
      ],
      "text/plain": [
       "                                          Particulars  Notes  \\\n",
       "0                                                 NaN    NaN   \n",
       "1                                          (1) Income    NaN   \n",
       "2                         (a) Revenue from operations    NaN   \n",
       "3                   (i) Revenue from sale of products   30.0   \n",
       "4                        (ii) Other operating revenue   31.0   \n",
       "5                                                 NaN    NaN   \n",
       "6                                    (b) Other income   32.0   \n",
       "7                                        Total income    NaN   \n",
       "8                                     (2) Expenditure    NaN   \n",
       "9                      (a) Cost of materials consumed   33.0   \n",
       "10                    (b) Purchases of stock-in-trade   34.0   \n",
       "11  (c) Changes in inventories of finished goods, ...    NaN   \n",
       "12                                     stock-in-trade   35.0   \n",
       "13                      (d) Employee benefits expense   36.0   \n",
       "14                                  (e) Finance costs   37.0   \n",
       "15  (f) Depreciation, impairment and amortisation ...   38.0   \n",
       "16                                 (g) Other expenses   39.0   \n",
       "17                                  Total expenditure    NaN   \n",
       "18        (3) Profit before exceptional items and tax    NaN   \n",
       "19                               (4) Exceptional item   52.0   \n",
       "20                              (5) Profit before tax    NaN   \n",
       "21                              (6) Tax expense (net)    NaN   \n",
       "22                                    (a) Current tax   10.0   \n",
       "23                                   (b) Deferred tax   10.0   \n",
       "24  (7) Profit after tax before share of profit/(l...    NaN   \n",
       "25         (8) Share of profit/(loss) from associates   44.0   \n",
       "26                            (9) Profit for the year    NaN   \n",
       "27             (10) Other comprehensive income/(loss)   40.0   \n",
       "28  (a) (i) Items that will not be reclassified to...    NaN   \n",
       "29            (ii) Income tax relating to these items    NaN   \n",
       "30  (b) (i) Items that will be reclassified to pro...    NaN   \n",
       "31            (ii) Income tax relating to these items    NaN   \n",
       "32     Other comprehensive income/(loss) for the year    NaN   \n",
       "33       (11) Total comprehensive income for the year    NaN   \n",
       "34           (12) Profit for the year attributable to    NaN   \n",
       "35                                         (a) Owners    NaN   \n",
       "36                       (b) Non-controlling interest    NaN   \n",
       "37    (13) Total comprehensive income attributable to    NaN   \n",
       "38                                         (a) Owners    NaN   \n",
       "39                       (b) Non-controlling interest    NaN   \n",
       "40  (14) Earnings per equity share of face value o...   41.0   \n",
       "41                                       Basic (in H)    NaN   \n",
       "42                                     Diluted (in H)    NaN   \n",
       "\n",
       "   For the year ended For the year ended.1  \n",
       "0    31st March, 2019     31st March, 2018  \n",
       "1                 NaN                  NaN  \n",
       "2                 NaN                  NaN  \n",
       "3           15,970.97            14,750.86  \n",
       "4              391.44               468.39  \n",
       "5           16,362.41            15,219.25  \n",
       "6              476.57               357.65  \n",
       "7           16,838.98            15,576.90  \n",
       "8                 NaN                  NaN  \n",
       "9            4,285.04             4,497.16  \n",
       "10           1,452.41             1,174.20  \n",
       "11                NaN                  NaN  \n",
       "12              47.04             (232.94)  \n",
       "13           2,856.53             2,690.10  \n",
       "14             168.43               114.23  \n",
       "15           1,326.31             1,322.82  \n",
       "16           4,624.08             4,264.35  \n",
       "17          14,759.84            13,829.92  \n",
       "18           2,079.14             1,746.98  \n",
       "19                  -                77.52  \n",
       "20           2,079.14             1,669.46  \n",
       "21                NaN                  NaN  \n",
       "22             747.70               561.06  \n",
       "23           (178.17)             (310.95)  \n",
       "24           1,509.61             1,419.35  \n",
       "25            (17.17)               (2.78)  \n",
       "26           1,492.44             1,416.57  \n",
       "27                NaN                  NaN  \n",
       "28              42.51                28.41  \n",
       "29             (7.60)               (4.11)  \n",
       "30           (312.63)               382.73  \n",
       "31            (12.22)              (13.50)  \n",
       "32           (289.94)               393.53  \n",
       "33           1,202.50             1,810.10  \n",
       "34                NaN                  NaN  \n",
       "35           1,527.70             1,410.53  \n",
       "36            (35.26)                 6.04  \n",
       "37                NaN                  NaN  \n",
       "38           1,220.23             1,764.52  \n",
       "39            (17.73)                45.58  \n",
       "40                NaN                  NaN  \n",
       "41              18.97                17.53  \n",
       "42              18.93                17.50  "
      ]
     },
     "execution_count": 3,
     "metadata": {},
     "output_type": "execute_result"
    }
   ],
   "source": [
    "# open the pdf file\n",
    "object = pdf.PdfFileReader(\"Cipla AR 2018-19-2.pdf\")\n",
    "\n",
    "# get number of pages\n",
    "NumPages = object.getNumPages()\n",
    "\n",
    "# define keyterms\n",
    "String = \"Consolidated Statement of Profit and Loss\"\n",
    "\n",
    "# extract text and do the search\n",
    "for i in range(0, NumPages):\n",
    "    PageObj = object.getPage(i)\n",
    "    Text = PageObj.extractText() \n",
    "    # print(Text)\n",
    "    if  re.search(String, Text) != None:\n",
    "        print(\"This is page \" + str(i))\n",
    "        page=object.getPage(i)\n",
    "        pdf_writer=pdf.PdfFileWriter()\n",
    "        pdf_writer.addPage(page)\n",
    "        output=open('profit_loss_1819.pdf','wb')\n",
    "        pdf_writer.write(output)\n",
    "        output.close()\n",
    "        df1=read_pdf('profit_loss_1819.pdf')\n",
    "df1[0]"
   ]
  },
  {
   "cell_type": "code",
   "execution_count": 9,
   "metadata": {
    "ExecuteTime": {
     "end_time": "2020-02-13T10:39:21.621191Z",
     "start_time": "2020-02-13T10:39:21.602242Z"
    }
   },
   "outputs": [
    {
     "ename": "ValueError",
     "evalue": "could not convert string to float: '1,492.44'",
     "output_type": "error",
     "traceback": [
      "\u001b[1;31m---------------------------------------------------------------------------\u001b[0m",
      "\u001b[1;31mValueError\u001b[0m                                Traceback (most recent call last)",
      "\u001b[1;32m<ipython-input-9-8c68a6953903>\u001b[0m in \u001b[0;36m<module>\u001b[1;34m\u001b[0m\n\u001b[0;32m      3\u001b[0m \u001b[0mpfy\u001b[0m\u001b[1;33m=\u001b[0m\u001b[0mdf1\u001b[0m\u001b[1;33m[\u001b[0m\u001b[1;36m0\u001b[0m\u001b[1;33m]\u001b[0m\u001b[1;33m.\u001b[0m\u001b[0miloc\u001b[0m\u001b[1;33m[\u001b[0m\u001b[1;36m7\u001b[0m\u001b[1;33m,\u001b[0m\u001b[1;36m2\u001b[0m\u001b[1;33m]\u001b[0m\u001b[1;33m\u001b[0m\u001b[1;33m\u001b[0m\u001b[0m\n\u001b[0;32m      4\u001b[0m \u001b[0mtype\u001b[0m\u001b[1;33m(\u001b[0m\u001b[0mti\u001b[0m\u001b[1;33m)\u001b[0m\u001b[1;33m\u001b[0m\u001b[1;33m\u001b[0m\u001b[0m\n\u001b[1;32m----> 5\u001b[1;33m \u001b[0mti\u001b[0m\u001b[1;33m=\u001b[0m\u001b[0mfloat\u001b[0m\u001b[1;33m(\u001b[0m\u001b[0mti\u001b[0m\u001b[1;33m)\u001b[0m\u001b[1;33m\u001b[0m\u001b[1;33m\u001b[0m\u001b[0m\n\u001b[0m",
      "\u001b[1;31mValueError\u001b[0m: could not convert string to float: '1,492.44'"
     ]
    }
   ],
   "source": [
    "df1[0].iloc[26,2]\n",
    "ti=df1[0].iloc[26,2]\n",
    "pfy=df1[0].iloc[7,2]\n",
    "type(ti)\n",
    "ti=float(ti)"
   ]
  },
  {
   "cell_type": "markdown",
   "metadata": {},
   "source": [
    "## Consolidated Cash Flow Statement"
   ]
  },
  {
   "cell_type": "code",
   "execution_count": 5,
   "metadata": {
    "ExecuteTime": {
     "end_time": "2020-02-06T16:37:45.038162Z",
     "start_time": "2020-02-06T16:37:09.191350Z"
    }
   },
   "outputs": [
    {
     "name": "stdout",
     "output_type": "stream",
     "text": [
      "This is page 262\n",
      "This is page 263\n"
     ]
    }
   ],
   "source": [
    "# open the pdf file\n",
    "object = pdf.PdfFileReader(\"Cipla AR 2018-19-2.pdf\")\n",
    "\n",
    "# get number of pages\n",
    "NumPages = object.getNumPages()\n",
    "String2 = \"Consolidated Statement of Cash Flows\"\n",
    "pdf_writer=pdf.PdfFileWriter()\n",
    "for i in range(0, NumPages):\n",
    "    PageObj = object.getPage(i)\n",
    "    Text = PageObj.extractText() \n",
    "    # print(Text)\n",
    "    if  re.search(String2, Text) != None:\n",
    "        print(\"This is page \" + str(i))\n",
    "        page=object.getPage(i)\n",
    "        pdf_writer.addPage(page)\n",
    "output=open('cashflow_1819.pdf','wb')\n",
    "pdf_writer.write(output)\n",
    "output.close()"
   ]
  },
  {
   "cell_type": "markdown",
   "metadata": {},
   "source": [
    "# For 2017-18"
   ]
  },
  {
   "cell_type": "markdown",
   "metadata": {},
   "source": [
    "## Consolidated Profit and Loss"
   ]
  },
  {
   "cell_type": "code",
   "execution_count": 16,
   "metadata": {
    "ExecuteTime": {
     "end_time": "2020-02-06T17:52:34.319866Z",
     "start_time": "2020-02-06T17:51:44.741752Z"
    }
   },
   "outputs": [
    {
     "name": "stderr",
     "output_type": "stream",
     "text": [
      "'pages' argument isn't specified.Will extract only from page 1 by default.\n"
     ]
    },
    {
     "name": "stdout",
     "output_type": "stream",
     "text": [
      "This is page 234\n"
     ]
    }
   ],
   "source": [
    "# open the pdf file\n",
    "object = pdf.PdfFileReader(\"1533309916_Cipla high res.pdf\")\n",
    "\n",
    "# get number of pages\n",
    "NumPages = object.getNumPages()\n",
    "\n",
    "# define keyterms\n",
    "String1 = \"Consolidated Statement of Profit and Loss\"\n",
    "# String2 = \"Firm Registration Number: 101248W/W-100022\"\n",
    "# String3 = \"\"\n",
    "# extract text and do the search\n",
    "for i in range(0, NumPages):\n",
    "    PageObj = object.getPage(i)\n",
    "    Text = PageObj.extractText() \n",
    "    # print(Text)\n",
    "    if  re.search(String1, Text) != None :\n",
    "        print(\"This is page \" + str(i))\n",
    "        page=object.getPage(i)\n",
    "        pdf_writer=pdf.PdfFileWriter()\n",
    "        pdf_writer.addPage(page)\n",
    "        output=open('profit_loss_1718.pdf','wb')\n",
    "        pdf_writer.write(output)\n",
    "        output.close()\n",
    "        df=read_pdf('profit_loss_1718.pdf')"
   ]
  },
  {
   "cell_type": "markdown",
   "metadata": {},
   "source": [
    "## Consolidated Balance Sheet"
   ]
  },
  {
   "cell_type": "code",
   "execution_count": 45,
   "metadata": {
    "ExecuteTime": {
     "end_time": "2020-02-07T09:32:21.298571Z",
     "start_time": "2020-02-07T09:31:22.017563Z"
    }
   },
   "outputs": [
    {
     "name": "stderr",
     "output_type": "stream",
     "text": [
      "PdfReadWarning: Xref table not zero-indexed. ID numbers for objects will be corrected. [pdf.py:1736]\n",
      "'pages' argument isn't specified.Will extract only from page 1 by default.\n"
     ]
    },
    {
     "name": "stdout",
     "output_type": "stream",
     "text": [
      "This is page 228\n"
     ]
    },
    {
     "name": "stderr",
     "output_type": "stream",
     "text": [
      "'pages' argument isn't specified.Will extract only from page 1 by default.\n"
     ]
    },
    {
     "name": "stdout",
     "output_type": "stream",
     "text": [
      "This is page 233\n"
     ]
    },
    {
     "name": "stderr",
     "output_type": "stream",
     "text": [
      "'pages' argument isn't specified.Will extract only from page 1 by default.\n"
     ]
    },
    {
     "name": "stdout",
     "output_type": "stream",
     "text": [
      "This is page 234\n"
     ]
    }
   ],
   "source": [
    "# open the pdf file\n",
    "object = pdf.PdfFileReader(\"1533309916_Cipla high res.pdf\")\n",
    "\n",
    "# get number of pages\n",
    "NumPages = object.getNumPages()\n",
    "\n",
    "# define keyterms\n",
    "String1 = \"Consolidated Balance Sheet\"\n",
    "# String2 = \"Firm Reg. No. 001076N/N500013\"\n",
    "# String3 = \"\"\n",
    "# extract text and do the search\n",
    "for i in range(0, NumPages):\n",
    "    PageObj = object.getPage(i)\n",
    "    Text = PageObj.extractText() \n",
    "    # print(Text)\n",
    "    if  re.search(String1, Text) != None :\n",
    "        print(\"This is page \" + str(i))\n",
    "        page=object.getPage(i)\n",
    "        pdf_writer=pdf.PdfFileWriter()\n",
    "        pdf_writer.addPage(page)\n",
    "        output=open('balancesheet_1718.pdf','wb')\n",
    "        pdf_writer.write(output)\n",
    "        output.close()\n",
    "        df=read_pdf('balancesheet_1718.pdf')"
   ]
  },
  {
   "cell_type": "markdown",
   "metadata": {},
   "source": [
    "## Consolidated Cash Flow Statement"
   ]
  },
  {
   "cell_type": "code",
   "execution_count": 20,
   "metadata": {
    "ExecuteTime": {
     "end_time": "2020-02-06T17:59:57.816193Z",
     "start_time": "2020-02-06T17:59:15.627770Z"
    }
   },
   "outputs": [
    {
     "name": "stdout",
     "output_type": "stream",
     "text": [
      "This is page 236\n",
      "This is page 237\n"
     ]
    }
   ],
   "source": [
    "# open the pdf file\n",
    "object = pdf.PdfFileReader(\"1533309916_Cipla high res.pdf\")\n",
    "\n",
    "# get number of pages\n",
    "NumPages = object.getNumPages()\n",
    "String2 = \"Consolidated Statement of Cash Flows\"\n",
    "pdf_writer=pdf.PdfFileWriter()\n",
    "for i in range(0, NumPages):\n",
    "    PageObj = object.getPage(i)\n",
    "    Text = PageObj.extractText() \n",
    "    # print(Text)\n",
    "    if  re.search(String2, Text) != None:\n",
    "        print(\"This is page \" + str(i))\n",
    "        page=object.getPage(i)\n",
    "        pdf_writer.addPage(page)\n",
    "output=open('cashflow_1718.pdf','wb')\n",
    "pdf_writer.write(output)\n",
    "output.close()"
   ]
  },
  {
   "cell_type": "markdown",
   "metadata": {},
   "source": [
    "# For 2016-17"
   ]
  },
  {
   "cell_type": "markdown",
   "metadata": {},
   "source": [
    "## Consolidated Balance Sheet"
   ]
  },
  {
   "cell_type": "code",
   "execution_count": 21,
   "metadata": {
    "ExecuteTime": {
     "end_time": "2020-02-06T18:03:48.881027Z",
     "start_time": "2020-02-06T18:03:17.492361Z"
    }
   },
   "outputs": [],
   "source": [
    "# open the pdf file\n",
    "object = pdf.PdfFileReader(\"1500033215_Annual Report 2016-17.pdf\")\n",
    "\n",
    "# get number of pages\n",
    "NumPages = object.getNumPages()\n",
    "\n",
    "# define keyterms\n",
    "String1 = \"Consolidated Balance Sheet\"\n",
    "# String2 = \"Firm Reg. No. 001076N/N500013\"\n",
    "# String3 = \"\"\n",
    "# extract text and do the search\n",
    "for i in range(0, NumPages):\n",
    "    PageObj = object.getPage(i)\n",
    "    Text = PageObj.extractText() \n",
    "    # print(Text)\n",
    "    if  re.search(String1, Text) != None and re.search(String2, Text) !=None:\n",
    "        print(\"This is page \" + str(i))\n",
    "        page=object.getPage(i)\n",
    "        pdf_writer=pdf.PdfFileWriter()\n",
    "        pdf_writer.addPage(page)\n",
    "        output=open('balancesheet_1617.pdf','wb')\n",
    "        pdf_writer.write(output)\n",
    "        output.close()\n",
    "        df=read_pdf('balancesheet_1617.pdf')"
   ]
  },
  {
   "cell_type": "markdown",
   "metadata": {},
   "source": [
    "## Consolidated Profit and Loss"
   ]
  },
  {
   "cell_type": "code",
   "execution_count": 22,
   "metadata": {
    "ExecuteTime": {
     "end_time": "2020-02-06T18:06:15.338034Z",
     "start_time": "2020-02-06T18:05:45.321609Z"
    }
   },
   "outputs": [],
   "source": [
    "# open the pdf file\n",
    "object = pdf.PdfFileReader(\"1500033215_Annual Report 2016-17.pdf\")\n",
    "\n",
    "# get number of pages\n",
    "NumPages = object.getNumPages()\n",
    "\n",
    "# define keyterms\n",
    "String1 = \"Consolidated Statement of Profit and Loss\"\n",
    "# String2 = \"Firm Reg. No. 001076N/N500013\"\n",
    "# String3 = \"\"\n",
    "# extract text and do the search\n",
    "for i in range(0, NumPages):\n",
    "    PageObj = object.getPage(i)\n",
    "    Text = PageObj.extractText() \n",
    "    # print(Text)\n",
    "    if  re.search(String1, Text) != None and re.search(String2, Text) !=None:\n",
    "        print(\"This is page \" + str(i))\n",
    "        page=object.getPage(i)\n",
    "        pdf_writer=pdf.PdfFileWriter()\n",
    "        pdf_writer.addPage(page)\n",
    "        output=open('profit_loss_1617.pdf','wb')\n",
    "        pdf_writer.write(output)\n",
    "        output.close()\n",
    "        df=read_pdf('profit_loss_1617.pdf')"
   ]
  },
  {
   "cell_type": "markdown",
   "metadata": {},
   "source": [
    "## Consolidated Cash Flow Statement"
   ]
  },
  {
   "cell_type": "code",
   "execution_count": 26,
   "metadata": {
    "ExecuteTime": {
     "end_time": "2020-02-07T09:09:52.000377Z",
     "start_time": "2020-02-07T09:09:12.703406Z"
    }
   },
   "outputs": [
    {
     "name": "stdout",
     "output_type": "stream",
     "text": [
      "This is page 188\n",
      "This is page 189\n"
     ]
    }
   ],
   "source": [
    "# open the pdf file\n",
    "object = pdf.PdfFileReader(\"1500033215_Annual Report 2016-17.pdf\")\n",
    "\n",
    "# get number of pages\n",
    "NumPages = object.getNumPages()\n",
    "String1=\"Consolidated Cash Flow Statement\"\n",
    "String2 = \"Consolidated Statement of Cash Flow\"\n",
    "pdf_writer=pdf.PdfFileWriter()\n",
    "for i in range(0, NumPages):\n",
    "    PageObj = object.getPage(i)\n",
    "    Text = PageObj.extractText() \n",
    "    # print(Text)\n",
    "    if  re.search(String2, Text) != None or re.search(String1, Text)!= None:\n",
    "        print(\"This is page \" + str(i))\n",
    "        page=object.getPage(i)\n",
    "        pdf_writer.addPage(page)\n",
    "output=open('cashflow_1617.pdf','wb')\n",
    "pdf_writer.write(output)\n",
    "output.close()"
   ]
  },
  {
   "cell_type": "code",
   "execution_count": null,
   "metadata": {},
   "outputs": [],
   "source": []
  }
 ],
 "metadata": {
  "kernelspec": {
   "display_name": "Python 3",
   "language": "python",
   "name": "python3"
  },
  "language_info": {
   "codemirror_mode": {
    "name": "ipython",
    "version": 3
   },
   "file_extension": ".py",
   "mimetype": "text/x-python",
   "name": "python",
   "nbconvert_exporter": "python",
   "pygments_lexer": "ipython3",
   "version": "3.7.3"
  },
  "toc": {
   "base_numbering": 1,
   "nav_menu": {},
   "number_sections": true,
   "sideBar": true,
   "skip_h1_title": false,
   "title_cell": "Table of Contents",
   "title_sidebar": "Contents",
   "toc_cell": false,
   "toc_position": {
    "height": "calc(100% - 180px)",
    "left": "10px",
    "top": "150px",
    "width": "357.933px"
   },
   "toc_section_display": true,
   "toc_window_display": true
  }
 },
 "nbformat": 4,
 "nbformat_minor": 2
}

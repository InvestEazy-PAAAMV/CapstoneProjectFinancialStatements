{
 "cells": [
  {
   "cell_type": "code",
   "execution_count": 1,
   "metadata": {
    "ExecuteTime": {
     "end_time": "2020-02-07T10:50:08.433881Z",
     "start_time": "2020-02-07T10:50:02.489834Z"
    }
   },
   "outputs": [],
   "source": [
    "from tabula import read_pdf\n",
    "from tabulate import tabulate\n",
    "import PyPDF2 as pdf\n",
    "import re"
   ]
  },
  {
   "cell_type": "markdown",
   "metadata": {},
   "source": [
    "# For 2018-19"
   ]
  },
  {
   "cell_type": "code",
   "execution_count": 3,
   "metadata": {
    "ExecuteTime": {
     "end_time": "2020-02-07T10:55:10.006031Z",
     "start_time": "2020-02-07T10:54:14.940924Z"
    }
   },
   "outputs": [
    {
     "name": "stderr",
     "output_type": "stream",
     "text": [
      "'pages' argument isn't specified.Will extract only from page 1 by default.\n"
     ]
    },
    {
     "name": "stdout",
     "output_type": "stream",
     "text": [
      "This is page 179\n"
     ]
    }
   ],
   "source": [
    "# open the pdf file\n",
    "object = pdf.PdfFileReader(\"Glenmark_Annual_Report_2018_19_0.pdf\")\n",
    "\n",
    "# get number of pages\n",
    "NumPages = object.getNumPages()\n",
    "\n",
    "# define keyterms\n",
    "String1 = \"Consolidated BALANCE SHEET- Ind AS\"\n",
    "# String2 = \"Firm Registration Number: 101248W/W-100022\"\n",
    "# String3 = \"\"\n",
    "# extract text and do the search\n",
    "for i in range(0, NumPages):\n",
    "    PageObj = object.getPage(i)\n",
    "    Text = PageObj.extractText() \n",
    "    # print(Text)\n",
    "    if  re.search(String1, Text) != None :\n",
    "        print(\"This is page \" + str(i))\n",
    "        page=object.getPage(i)\n",
    "        pdf_writer=pdf.PdfFileWriter()\n",
    "        pdf_writer.addPage(page)\n",
    "        output=open('balancesheet_1819.pdf','wb')\n",
    "        pdf_writer.write(output)\n",
    "        output.close()\n",
    "        df=read_pdf('balancesheet_1819.pdf')"
   ]
  },
  {
   "cell_type": "code",
   "execution_count": 5,
   "metadata": {
    "ExecuteTime": {
     "end_time": "2020-02-07T11:02:40.585569Z",
     "start_time": "2020-02-07T11:01:57.465914Z"
    }
   },
   "outputs": [],
   "source": [
    "# open the pdf file\n",
    "object = pdf.PdfFileReader(\"Glenmark_Annual_Report_2018_19_0.pdf\")\n",
    "\n",
    "# get number of pages\n",
    "NumPages = object.getNumPages()\n",
    "\n",
    "# define keyterms\n",
    "String1 = \"Consolidated STATEMENT OF PROFIT AND LOSS - Ind AS\"\n",
    "# String2 = \"Firm Registration Number: 101248W/W-100022\"\n",
    "# String3 = \"\"\n",
    "# extract text and do the search\n",
    "for i in range(0, NumPages):\n",
    "    PageObj = object.getPage(i)\n",
    "    Text = PageObj.extractText() \n",
    "    # print(Text)\n",
    "    if  re.search(String1, Text) != None :\n",
    "        print(\"This is page \" + str(i))\n",
    "        page=object.getPage(i)\n",
    "        pdf_writer=pdf.PdfFileWriter()\n",
    "        pdf_writer.addPage(page)\n",
    "        output=open('p&l_1819.pdf','wb')\n",
    "        pdf_writer.write(output)\n",
    "        output.close()\n",
    "        df=read_pdf('p&l_1819.pdf')"
   ]
  },
  {
   "cell_type": "code",
   "execution_count": 8,
   "metadata": {
    "ExecuteTime": {
     "end_time": "2020-02-07T11:08:33.998267Z",
     "start_time": "2020-02-07T11:07:50.688774Z"
    }
   },
   "outputs": [],
   "source": [
    "# open the pdf file\n",
    "object = pdf.PdfFileReader(\"Glenmark_Annual_Report_2018_19_0.pdf\")\n",
    "\n",
    "# get number of pages\n",
    "NumPages = object.getNumPages()\n",
    "String2 = \"Consolidated STATEMENT OF CASH FLOWS - Ind AS\"\n",
    "pdf_writer=pdf.PdfFileWriter()\n",
    "for i in range(0, NumPages):\n",
    "    PageObj = object.getPage(i)\n",
    "    Text = PageObj.extractText() \n",
    "    # print(Text)\n",
    "    if  re.search(String2, Text) != None:\n",
    "        print(\"This is page \" + str(i))\n",
    "        page=object.getPage(i)\n",
    "        pdf_writer.addPage(page)\n",
    "output=open('cashflow_1819.pdf','wb')\n",
    "pdf_writer.write(output)\n",
    "output.close()"
   ]
  },
  {
   "cell_type": "markdown",
   "metadata": {},
   "source": [
    "# For 2018-17"
   ]
  },
  {
   "cell_type": "code",
   "execution_count": 9,
   "metadata": {
    "ExecuteTime": {
     "end_time": "2020-02-07T11:14:46.121910Z",
     "start_time": "2020-02-07T11:12:08.780801Z"
    }
   },
   "outputs": [
    {
     "name": "stderr",
     "output_type": "stream",
     "text": [
      "PdfReadWarning: Xref table not zero-indexed. ID numbers for objects will be corrected. [pdf.py:1736]\n",
      "'pages' argument isn't specified.Will extract only from page 1 by default.\n"
     ]
    },
    {
     "name": "stdout",
     "output_type": "stream",
     "text": [
      "This is page 1\n"
     ]
    },
    {
     "name": "stderr",
     "output_type": "stream",
     "text": [
      "'pages' argument isn't specified.Will extract only from page 1 by default.\n"
     ]
    },
    {
     "name": "stdout",
     "output_type": "stream",
     "text": [
      "This is page 196\n"
     ]
    },
    {
     "name": "stderr",
     "output_type": "stream",
     "text": [
      "Got stderr: Feb 07, 2020 4:43:57 PM org.apache.pdfbox.pdmodel.font.PDType0Font toUnicode\r\n",
      "WARNING: No Unicode mapping for CID+343 (343) in font Gotham-Book-Identity-H\r\n",
      "Feb 07, 2020 4:43:57 PM org.apache.pdfbox.pdmodel.font.PDType0Font toUnicode\r\n",
      "WARNING: No Unicode mapping for CID+81 (81) in font Gotham-Book-Identity-H\r\n",
      "Feb 07, 2020 4:43:57 PM org.apache.pdfbox.pdmodel.font.PDType0Font toUnicode\r\n",
      "WARNING: No Unicode mapping for CID+68 (68) in font Gotham-Book-Identity-H\r\n",
      "Feb 07, 2020 4:43:57 PM org.apache.pdfbox.pdmodel.font.PDType0Font toUnicode\r\n",
      "WARNING: No Unicode mapping for CID+70 (70) in font Gotham-Book-Identity-H\r\n",
      "Feb 07, 2020 4:43:57 PM org.apache.pdfbox.pdmodel.font.PDType0Font toUnicode\r\n",
      "WARNING: No Unicode mapping for CID+76 (76) in font Gotham-Book-Identity-H\r\n",
      "Feb 07, 2020 4:43:57 PM org.apache.pdfbox.pdmodel.font.PDType0Font toUnicode\r\n",
      "WARNING: No Unicode mapping for CID+79 (79) in font Gotham-Book-Identity-H\r\n",
      "Feb 07, 2020 4:43:57 PM org.apache.pdfbox.pdmodel.font.PDType0Font toUnicode\r\n",
      "WARNING: No Unicode mapping for CID+3 (3) in font Gotham-Book-Identity-H\r\n",
      "Feb 07, 2020 4:43:57 PM org.apache.pdfbox.pdmodel.font.PDType0Font toUnicode\r\n",
      "WARNING: No Unicode mapping for CID+86 (86) in font Gotham-Book-Identity-H\r\n",
      "Feb 07, 2020 4:43:57 PM org.apache.pdfbox.pdmodel.font.PDType0Font toUnicode\r\n",
      "WARNING: No Unicode mapping for CID+87 (87) in font Gotham-Book-Identity-H\r\n",
      "Feb 07, 2020 4:43:57 PM org.apache.pdfbox.pdmodel.font.PDType0Font toUnicode\r\n",
      "WARNING: No Unicode mapping for CID+72 (72) in font Gotham-Book-Identity-H\r\n",
      "Feb 07, 2020 4:43:57 PM org.apache.pdfbox.pdmodel.font.PDType0Font toUnicode\r\n",
      "WARNING: No Unicode mapping for CID+80 (80) in font Gotham-Book-Identity-H\r\n",
      "Feb 07, 2020 4:43:57 PM org.apache.pdfbox.pdmodel.font.PDType0Font toUnicode\r\n",
      "WARNING: No Unicode mapping for CID+82 (82) in font Gotham-Book-Identity-H\r\n",
      "Feb 07, 2020 4:43:57 PM org.apache.pdfbox.pdmodel.font.PDType0Font toUnicode\r\n",
      "WARNING: No Unicode mapping for CID+73 (73) in font Gotham-Book-Identity-H\r\n",
      "Feb 07, 2020 4:43:57 PM org.apache.pdfbox.pdmodel.font.PDType0Font toUnicode\r\n",
      "WARNING: No Unicode mapping for CID+42 (42) in font Gotham-Book-Identity-H\r\n",
      "Feb 07, 2020 4:43:57 PM org.apache.pdfbox.pdmodel.font.PDType0Font toUnicode\r\n",
      "WARNING: No Unicode mapping for CID+85 (85) in font Gotham-Book-Identity-H\r\n",
      "Feb 07, 2020 4:43:57 PM org.apache.pdfbox.pdmodel.font.PDType0Font toUnicode\r\n",
      "WARNING: No Unicode mapping for CID+78 (78) in font Gotham-Book-Identity-H\r\n",
      "Feb 07, 2020 4:43:57 PM org.apache.pdfbox.pdmodel.font.PDType0Font toUnicode\r\n",
      "WARNING: No Unicode mapping for CID+51 (51) in font Gotham-Book-Identity-H\r\n",
      "Feb 07, 2020 4:43:57 PM org.apache.pdfbox.pdmodel.font.PDType0Font toUnicode\r\n",
      "WARNING: No Unicode mapping for CID+75 (75) in font Gotham-Book-Identity-H\r\n",
      "Feb 07, 2020 4:43:57 PM org.apache.pdfbox.pdmodel.font.PDType0Font toUnicode\r\n",
      "WARNING: No Unicode mapping for CID+88 (88) in font Gotham-Book-Identity-H\r\n",
      "Feb 07, 2020 4:43:57 PM org.apache.pdfbox.pdmodel.font.PDType0Font toUnicode\r\n",
      "WARNING: No Unicode mapping for CID+71 (71) in font Gotham-Book-Identity-H\r\n",
      "Feb 07, 2020 4:43:57 PM org.apache.pdfbox.pdmodel.font.PDType0Font toUnicode\r\n",
      "WARNING: No Unicode mapping for CID+47 (47) in font Gotham-Book-Identity-H\r\n",
      "Feb 07, 2020 4:43:57 PM org.apache.pdfbox.pdmodel.font.PDType0Font toUnicode\r\n",
      "WARNING: No Unicode mapping for CID+11 (11) in font Gotham-Book-Identity-H\r\n",
      "Feb 07, 2020 4:43:57 PM org.apache.pdfbox.pdmodel.font.PDType0Font toUnicode\r\n",
      "WARNING: No Unicode mapping for CID+74 (74) in font Gotham-Book-Identity-H\r\n",
      "Feb 07, 2020 4:43:57 PM org.apache.pdfbox.pdmodel.font.PDType0Font toUnicode\r\n",
      "WARNING: No Unicode mapping for CID+50 (50) in font Gotham-Book-Identity-H\r\n",
      "Feb 07, 2020 4:43:57 PM org.apache.pdfbox.pdmodel.font.PDType0Font toUnicode\r\n",
      "WARNING: No Unicode mapping for CID+38 (38) in font Gotham-Book-Identity-H\r\n",
      "Feb 07, 2020 4:43:57 PM org.apache.pdfbox.pdmodel.font.PDType0Font toUnicode\r\n",
      "WARNING: No Unicode mapping for CID+83 (83) in font Gotham-Book-Identity-H\r\n",
      "Feb 07, 2020 4:43:57 PM org.apache.pdfbox.pdmodel.font.PDType0Font toUnicode\r\n",
      "WARNING: No Unicode mapping for CID+89 (89) in font Gotham-Book-Identity-H\r\n",
      "Feb 07, 2020 4:43:57 PM org.apache.pdfbox.pdmodel.font.PDType0Font toUnicode\r\n",
      "WARNING: No Unicode mapping for CID+92 (92) in font Gotham-Book-Identity-H\r\n",
      "Feb 07, 2020 4:43:57 PM org.apache.pdfbox.pdmodel.font.PDType0Font toUnicode\r\n",
      "WARNING: No Unicode mapping for CID+342 (342) in font Gotham-Book-Identity-H\r\n",
      "Feb 07, 2020 4:43:57 PM org.apache.pdfbox.pdmodel.font.PDType0Font toUnicode\r\n",
      "WARNING: No Unicode mapping for CID+12 (12) in font Gotham-Book-Identity-H\r\n",
      "Feb 07, 2020 4:43:57 PM org.apache.pdfbox.pdmodel.font.PDType0Font toUnicode\r\n",
      "WARNING: No Unicode mapping for CID+15 (15) in font Gotham-Book-Identity-H\r\n",
      "Feb 07, 2020 4:43:57 PM org.apache.pdfbox.pdmodel.font.PDType0Font toUnicode\r\n",
      "WARNING: No Unicode mapping for CID+344 (344) in font Gotham-Book-Identity-H\r\n",
      "Feb 07, 2020 4:43:57 PM org.apache.pdfbox.pdmodel.font.PDType0Font toUnicode\r\n",
      "WARNING: No Unicode mapping for CID+90 (90) in font Gotham-Book-Identity-H\r\n",
      "Feb 07, 2020 4:43:57 PM org.apache.pdfbox.pdmodel.font.PDType0Font toUnicode\r\n",
      "WARNING: No Unicode mapping for CID+36 (36) in font Gotham-Book-Identity-H\r\n",
      "Feb 07, 2020 4:43:57 PM org.apache.pdfbox.pdmodel.font.PDType0Font toUnicode\r\n",
      "WARNING: No Unicode mapping for CID+54 (54) in font Gotham-Book-Identity-H\r\n",
      "Feb 07, 2020 4:43:57 PM org.apache.pdfbox.pdmodel.font.PDType0Font toUnicode\r\n",
      "WARNING: No Unicode mapping for CID+44 (44) in font Gotham-Book-Identity-H\r\n",
      "Feb 07, 2020 4:43:57 PM org.apache.pdfbox.pdmodel.font.PDType0Font toUnicode\r\n",
      "WARNING: No Unicode mapping for CID+84 (84) in font Gotham-Book-Identity-H\r\n",
      "Feb 07, 2020 4:43:57 PM org.apache.pdfbox.pdmodel.font.PDType0Font toUnicode\r\n",
      "WARNING: No Unicode mapping for CID+17 (17) in font Gotham-Book-Identity-H\r\n",
      "Feb 07, 2020 4:43:57 PM org.apache.pdfbox.pdmodel.font.PDType0Font toUnicode\r\n",
      "WARNING: No Unicode mapping for CID+55 (55) in font Gotham-Book-Identity-H\r\n",
      "Feb 07, 2020 4:43:57 PM org.apache.pdfbox.pdmodel.font.PDType0Font toUnicode\r\n",
      "WARNING: No Unicode mapping for CID+69 (69) in font Gotham-Book-Identity-H\r\n",
      "Feb 07, 2020 4:43:57 PM org.apache.pdfbox.pdmodel.font.PDType0Font toUnicode\r\n",
      "WARNING: No Unicode mapping for CID+22 (22) in font Gotham-Book-Identity-H\r\n",
      "Feb 07, 2020 4:43:57 PM org.apache.pdfbox.pdmodel.font.PDType0Font toUnicode\r\n",
      "WARNING: No Unicode mapping for CID+91 (91) in font Gotham-Book-Identity-H\r\n",
      "Feb 07, 2020 4:43:57 PM org.apache.pdfbox.pdmodel.font.PDType0Font toUnicode\r\n",
      "WARNING: No Unicode mapping for CID+43 (43) in font Gotham-Book-Identity-H\r\n",
      "Feb 07, 2020 4:43:58 PM org.apache.pdfbox.pdmodel.font.PDType0Font toUnicode\r\n",
      "WARNING: No Unicode mapping for CID+343 (343) in font Gotham-Book-Identity-H\r\n",
      "Feb 07, 2020 4:43:58 PM org.apache.pdfbox.pdmodel.font.PDType0Font toUnicode\r\n",
      "WARNING: No Unicode mapping for CID+81 (81) in font Gotham-Book-Identity-H\r\n",
      "Feb 07, 2020 4:43:58 PM org.apache.pdfbox.pdmodel.font.PDType0Font toUnicode\r\n",
      "WARNING: No Unicode mapping for CID+68 (68) in font Gotham-Book-Identity-H\r\n",
      "Feb 07, 2020 4:43:58 PM org.apache.pdfbox.pdmodel.font.PDType0Font toUnicode\r\n",
      "WARNING: No Unicode mapping for CID+70 (70) in font Gotham-Book-Identity-H\r\n",
      "Feb 07, 2020 4:43:58 PM org.apache.pdfbox.pdmodel.font.PDType0Font toUnicode\r\n",
      "WARNING: No Unicode mapping for CID+76 (76) in font Gotham-Book-Identity-H\r\n",
      "Feb 07, 2020 4:43:58 PM org.apache.pdfbox.pdmodel.font.PDType0Font toUnicode\r\n",
      "WARNING: No Unicode mapping for CID+79 (79) in font Gotham-Book-Identity-H\r\n",
      "Feb 07, 2020 4:43:58 PM org.apache.pdfbox.pdmodel.font.PDType0Font toUnicode\r\n",
      "WARNING: No Unicode mapping for CID+3 (3) in font Gotham-Book-Identity-H\r\n",
      "Feb 07, 2020 4:43:58 PM org.apache.pdfbox.pdmodel.font.PDType0Font toUnicode\r\n",
      "WARNING: No Unicode mapping for CID+86 (86) in font Gotham-Book-Identity-H\r\n",
      "Feb 07, 2020 4:43:58 PM org.apache.pdfbox.pdmodel.font.PDType0Font toUnicode\r\n",
      "WARNING: No Unicode mapping for CID+87 (87) in font Gotham-Book-Identity-H\r\n",
      "Feb 07, 2020 4:43:58 PM org.apache.pdfbox.pdmodel.font.PDType0Font toUnicode\r\n",
      "WARNING: No Unicode mapping for CID+72 (72) in font Gotham-Book-Identity-H\r\n",
      "Feb 07, 2020 4:43:58 PM org.apache.pdfbox.pdmodel.font.PDType0Font toUnicode\r\n",
      "WARNING: No Unicode mapping for CID+80 (80) in font Gotham-Book-Identity-H\r\n",
      "Feb 07, 2020 4:43:58 PM org.apache.pdfbox.pdmodel.font.PDType0Font toUnicode\r\n",
      "WARNING: No Unicode mapping for CID+82 (82) in font Gotham-Book-Identity-H\r\n",
      "Feb 07, 2020 4:43:58 PM org.apache.pdfbox.pdmodel.font.PDType0Font toUnicode\r\n",
      "WARNING: No Unicode mapping for CID+73 (73) in font Gotham-Book-Identity-H\r\n",
      "Feb 07, 2020 4:43:58 PM org.apache.pdfbox.pdmodel.font.PDType0Font toUnicode\r\n",
      "WARNING: No Unicode mapping for CID+42 (42) in font Gotham-Book-Identity-H\r\n",
      "Feb 07, 2020 4:43:58 PM org.apache.pdfbox.pdmodel.font.PDType0Font toUnicode\r\n",
      "WARNING: No Unicode mapping for CID+85 (85) in font Gotham-Book-Identity-H\r\n",
      "Feb 07, 2020 4:43:58 PM org.apache.pdfbox.pdmodel.font.PDType0Font toUnicode\r\n",
      "WARNING: No Unicode mapping for CID+78 (78) in font Gotham-Book-Identity-H\r\n",
      "Feb 07, 2020 4:43:58 PM org.apache.pdfbox.pdmodel.font.PDType0Font toUnicode\r\n",
      "WARNING: No Unicode mapping for CID+51 (51) in font Gotham-Book-Identity-H\r\n",
      "Feb 07, 2020 4:43:58 PM org.apache.pdfbox.pdmodel.font.PDType0Font toUnicode\r\n",
      "WARNING: No Unicode mapping for CID+75 (75) in font Gotham-Book-Identity-H\r\n",
      "Feb 07, 2020 4:43:58 PM org.apache.pdfbox.pdmodel.font.PDType0Font toUnicode\r\n",
      "WARNING: No Unicode mapping for CID+88 (88) in font Gotham-Book-Identity-H\r\n",
      "Feb 07, 2020 4:43:58 PM org.apache.pdfbox.pdmodel.font.PDType0Font toUnicode\r\n",
      "WARNING: No Unicode mapping for CID+71 (71) in font Gotham-Book-Identity-H\r\n",
      "Feb 07, 2020 4:43:58 PM org.apache.pdfbox.pdmodel.font.PDType0Font toUnicode\r\n",
      "WARNING: No Unicode mapping for CID+47 (47) in font Gotham-Book-Identity-H\r\n",
      "Feb 07, 2020 4:43:58 PM org.apache.pdfbox.pdmodel.font.PDType0Font toUnicode\r\n",
      "WARNING: No Unicode mapping for CID+11 (11) in font Gotham-Book-Identity-H\r\n",
      "Feb 07, 2020 4:43:58 PM org.apache.pdfbox.pdmodel.font.PDType0Font toUnicode\r\n",
      "WARNING: No Unicode mapping for CID+74 (74) in font Gotham-Book-Identity-H\r\n",
      "Feb 07, 2020 4:43:58 PM org.apache.pdfbox.pdmodel.font.PDType0Font toUnicode\r\n",
      "WARNING: No Unicode mapping for CID+50 (50) in font Gotham-Book-Identity-H\r\n",
      "Feb 07, 2020 4:43:58 PM org.apache.pdfbox.pdmodel.font.PDType0Font toUnicode\r\n",
      "WARNING: No Unicode mapping for CID+38 (38) in font Gotham-Book-Identity-H\r\n",
      "Feb 07, 2020 4:43:58 PM org.apache.pdfbox.pdmodel.font.PDType0Font toUnicode\r\n",
      "WARNING: No Unicode mapping for CID+83 (83) in font Gotham-Book-Identity-H\r\n",
      "Feb 07, 2020 4:43:58 PM org.apache.pdfbox.pdmodel.font.PDType0Font toUnicode\r\n",
      "WARNING: No Unicode mapping for CID+89 (89) in font Gotham-Book-Identity-H\r\n",
      "Feb 07, 2020 4:43:58 PM org.apache.pdfbox.pdmodel.font.PDType0Font toUnicode\r\n",
      "WARNING: No Unicode mapping for CID+92 (92) in font Gotham-Book-Identity-H\r\n",
      "Feb 07, 2020 4:43:58 PM org.apache.pdfbox.pdmodel.font.PDType0Font toUnicode\r\n",
      "WARNING: No Unicode mapping for CID+342 (342) in font Gotham-Book-Identity-H\r\n",
      "Feb 07, 2020 4:43:58 PM org.apache.pdfbox.pdmodel.font.PDType0Font toUnicode\r\n",
      "WARNING: No Unicode mapping for CID+12 (12) in font Gotham-Book-Identity-H\r\n",
      "Feb 07, 2020 4:43:58 PM org.apache.pdfbox.pdmodel.font.PDType0Font toUnicode\r\n",
      "WARNING: No Unicode mapping for CID+15 (15) in font Gotham-Book-Identity-H\r\n",
      "Feb 07, 2020 4:43:58 PM org.apache.pdfbox.pdmodel.font.PDType0Font toUnicode\r\n",
      "WARNING: No Unicode mapping for CID+344 (344) in font Gotham-Book-Identity-H\r\n",
      "Feb 07, 2020 4:43:58 PM org.apache.pdfbox.pdmodel.font.PDType0Font toUnicode\r\n",
      "WARNING: No Unicode mapping for CID+90 (90) in font Gotham-Book-Identity-H\r\n",
      "Feb 07, 2020 4:43:58 PM org.apache.pdfbox.pdmodel.font.PDType0Font toUnicode\r\n",
      "WARNING: No Unicode mapping for CID+36 (36) in font Gotham-Book-Identity-H\r\n",
      "Feb 07, 2020 4:43:58 PM org.apache.pdfbox.pdmodel.font.PDType0Font toUnicode\r\n",
      "WARNING: No Unicode mapping for CID+54 (54) in font Gotham-Book-Identity-H\r\n",
      "Feb 07, 2020 4:43:58 PM org.apache.pdfbox.pdmodel.font.PDType0Font toUnicode\r\n",
      "WARNING: No Unicode mapping for CID+44 (44) in font Gotham-Book-Identity-H\r\n",
      "Feb 07, 2020 4:43:58 PM org.apache.pdfbox.pdmodel.font.PDType0Font toUnicode\r\n",
      "WARNING: No Unicode mapping for CID+84 (84) in font Gotham-Book-Identity-H\r\n",
      "Feb 07, 2020 4:43:58 PM org.apache.pdfbox.pdmodel.font.PDType0Font toUnicode\r\n",
      "WARNING: No Unicode mapping for CID+17 (17) in font Gotham-Book-Identity-H\r\n",
      "Feb 07, 2020 4:43:58 PM org.apache.pdfbox.pdmodel.font.PDType0Font toUnicode\r\n",
      "WARNING: No Unicode mapping for CID+55 (55) in font Gotham-Book-Identity-H\r\n",
      "Feb 07, 2020 4:43:58 PM org.apache.pdfbox.pdmodel.font.PDType0Font toUnicode\r\n",
      "WARNING: No Unicode mapping for CID+69 (69) in font Gotham-Book-Identity-H\r\n",
      "Feb 07, 2020 4:43:58 PM org.apache.pdfbox.pdmodel.font.PDType0Font toUnicode\r\n",
      "WARNING: No Unicode mapping for CID+22 (22) in font Gotham-Book-Identity-H\r\n",
      "Feb 07, 2020 4:43:58 PM org.apache.pdfbox.pdmodel.font.PDType0Font toUnicode\r\n",
      "WARNING: No Unicode mapping for CID+91 (91) in font Gotham-Book-Identity-H\r\n",
      "Feb 07, 2020 4:43:58 PM org.apache.pdfbox.pdmodel.font.PDType0Font toUnicode\r\n",
      "WARNING: No Unicode mapping for CID+43 (43) in font Gotham-Book-Identity-H\r\n",
      "\n"
     ]
    },
    {
     "name": "stderr",
     "output_type": "stream",
     "text": [
      "'pages' argument isn't specified.Will extract only from page 1 by default.\n"
     ]
    },
    {
     "name": "stdout",
     "output_type": "stream",
     "text": [
      "This is page 201\n"
     ]
    },
    {
     "name": "stderr",
     "output_type": "stream",
     "text": [
      "Got stderr: Feb 07, 2020 4:44:02 PM org.apache.pdfbox.pdmodel.font.PDType0Font toUnicode\r\n",
      "WARNING: No Unicode mapping for CID+3 (3) in font Gotham-Book-Identity-H\r\n",
      "Feb 07, 2020 4:44:02 PM org.apache.pdfbox.pdmodel.font.PDType0Font toUnicode\r\n",
      "WARNING: No Unicode mapping for CID+76 (76) in font Gotham-Book-Identity-H\r\n",
      "Feb 07, 2020 4:44:02 PM org.apache.pdfbox.pdmodel.font.PDType0Font toUnicode\r\n",
      "WARNING: No Unicode mapping for CID+17 (17) in font Gotham-Book-Identity-H\r\n",
      "Feb 07, 2020 4:44:02 PM org.apache.pdfbox.pdmodel.font.PDType0Font toUnicode\r\n",
      "WARNING: No Unicode mapping for CID+50 (50) in font Gotham-Book-Identity-H\r\n",
      "Feb 07, 2020 4:44:02 PM org.apache.pdfbox.pdmodel.font.PDType0Font toUnicode\r\n",
      "WARNING: No Unicode mapping for CID+87 (87) in font Gotham-Book-Identity-H\r\n",
      "Feb 07, 2020 4:44:02 PM org.apache.pdfbox.pdmodel.font.PDType0Font toUnicode\r\n",
      "WARNING: No Unicode mapping for CID+75 (75) in font Gotham-Book-Identity-H\r\n",
      "Feb 07, 2020 4:44:02 PM org.apache.pdfbox.pdmodel.font.PDType0Font toUnicode\r\n",
      "WARNING: No Unicode mapping for CID+72 (72) in font Gotham-Book-Identity-H\r\n",
      "Feb 07, 2020 4:44:02 PM org.apache.pdfbox.pdmodel.font.PDType0Font toUnicode\r\n",
      "WARNING: No Unicode mapping for CID+85 (85) in font Gotham-Book-Identity-H\r\n",
      "Feb 07, 2020 4:44:02 PM org.apache.pdfbox.pdmodel.font.PDType0Font toUnicode\r\n",
      "WARNING: No Unicode mapping for CID+81 (81) in font Gotham-Book-Identity-H\r\n",
      "Feb 07, 2020 4:44:02 PM org.apache.pdfbox.pdmodel.font.PDType0Font toUnicode\r\n",
      "WARNING: No Unicode mapping for CID+82 (82) in font Gotham-Book-Identity-H\r\n",
      "Feb 07, 2020 4:44:02 PM org.apache.pdfbox.pdmodel.font.PDType0Font toUnicode\r\n",
      "WARNING: No Unicode mapping for CID+16 (16) in font Gotham-Book-Identity-H\r\n",
      "Feb 07, 2020 4:44:02 PM org.apache.pdfbox.pdmodel.font.PDType0Font toUnicode\r\n",
      "WARNING: No Unicode mapping for CID+70 (70) in font Gotham-Book-Identity-H\r\n",
      "Feb 07, 2020 4:44:02 PM org.apache.pdfbox.pdmodel.font.PDType0Font toUnicode\r\n",
      "WARNING: No Unicode mapping for CID+88 (88) in font Gotham-Book-Identity-H\r\n",
      "Feb 07, 2020 4:44:02 PM org.apache.pdfbox.pdmodel.font.PDType0Font toUnicode\r\n",
      "WARNING: No Unicode mapping for CID+343 (343) in font Gotham-Book-Identity-H\r\n",
      "Feb 07, 2020 4:44:02 PM org.apache.pdfbox.pdmodel.font.PDType0Font toUnicode\r\n",
      "WARNING: No Unicode mapping for CID+68 (68) in font Gotham-Book-Identity-H\r\n",
      "Feb 07, 2020 4:44:02 PM org.apache.pdfbox.pdmodel.font.PDType0Font toUnicode\r\n",
      "WARNING: No Unicode mapping for CID+79 (79) in font Gotham-Book-Identity-H\r\n",
      "Feb 07, 2020 4:44:02 PM org.apache.pdfbox.pdmodel.font.PDType0Font toUnicode\r\n",
      "WARNING: No Unicode mapping for CID+86 (86) in font Gotham-Book-Identity-H\r\n",
      "Feb 07, 2020 4:44:02 PM org.apache.pdfbox.pdmodel.font.PDType0Font toUnicode\r\n",
      "WARNING: No Unicode mapping for CID+89 (89) in font Gotham-Book-Identity-H\r\n",
      "Feb 07, 2020 4:44:02 PM org.apache.pdfbox.pdmodel.font.PDType0Font toUnicode\r\n",
      "WARNING: No Unicode mapping for CID+84 (84) in font Gotham-Book-Identity-H\r\n",
      "Feb 07, 2020 4:44:02 PM org.apache.pdfbox.pdmodel.font.PDType0Font toUnicode\r\n",
      "WARNING: No Unicode mapping for CID+92 (92) in font Gotham-Book-Identity-H\r\n",
      "Feb 07, 2020 4:44:02 PM org.apache.pdfbox.pdmodel.font.PDType0Font toUnicode\r\n",
      "WARNING: No Unicode mapping for CID+69 (69) in font Gotham-Book-Identity-H\r\n",
      "Feb 07, 2020 4:44:02 PM org.apache.pdfbox.pdmodel.font.PDType0Font toUnicode\r\n",
      "WARNING: No Unicode mapping for CID+54 (54) in font Gotham-Book-Identity-H\r\n",
      "Feb 07, 2020 4:44:02 PM org.apache.pdfbox.pdmodel.font.PDType0Font toUnicode\r\n",
      "WARNING: No Unicode mapping for CID+80 (80) in font Gotham-Book-Identity-H\r\n",
      "Feb 07, 2020 4:44:02 PM org.apache.pdfbox.pdmodel.font.PDType0Font toUnicode\r\n",
      "WARNING: No Unicode mapping for CID+83 (83) in font Gotham-Book-Identity-H\r\n",
      "Feb 07, 2020 4:44:02 PM org.apache.pdfbox.pdmodel.font.PDType0Font toUnicode\r\n",
      "WARNING: No Unicode mapping for CID+74 (74) in font Gotham-Book-Identity-H\r\n",
      "Feb 07, 2020 4:44:02 PM org.apache.pdfbox.pdmodel.font.PDType0Font toUnicode\r\n",
      "WARNING: No Unicode mapping for CID+71 (71) in font Gotham-Book-Identity-H\r\n",
      "Feb 07, 2020 4:44:02 PM org.apache.pdfbox.pdmodel.font.PDType0Font toUnicode\r\n",
      "WARNING: No Unicode mapping for CID+42 (42) in font Gotham-Book-Identity-H\r\n",
      "Feb 07, 2020 4:44:02 PM org.apache.pdfbox.pdmodel.font.PDType0Font toUnicode\r\n",
      "WARNING: No Unicode mapping for CID+38 (38) in font Gotham-Book-Identity-H\r\n",
      "Feb 07, 2020 4:44:02 PM org.apache.pdfbox.pdmodel.font.PDType0Font toUnicode\r\n",
      "WARNING: No Unicode mapping for CID+73 (73) in font Gotham-Book-Identity-H\r\n",
      "Feb 07, 2020 4:44:02 PM org.apache.pdfbox.pdmodel.font.PDType0Font toUnicode\r\n",
      "WARNING: No Unicode mapping for CID+41 (41) in font Gotham-Book-Identity-H\r\n",
      "Feb 07, 2020 4:44:02 PM org.apache.pdfbox.pdmodel.font.PDType0Font toUnicode\r\n",
      "WARNING: No Unicode mapping for CID+345 (345) in font Gotham-Book-Identity-H\r\n",
      "Feb 07, 2020 4:44:03 PM org.apache.pdfbox.pdmodel.font.PDType0Font toUnicode\r\n",
      "WARNING: No Unicode mapping for CID+3 (3) in font Gotham-Book-Identity-H\r\n",
      "Feb 07, 2020 4:44:03 PM org.apache.pdfbox.pdmodel.font.PDType0Font toUnicode\r\n",
      "WARNING: No Unicode mapping for CID+76 (76) in font Gotham-Book-Identity-H\r\n",
      "Feb 07, 2020 4:44:03 PM org.apache.pdfbox.pdmodel.font.PDType0Font toUnicode\r\n",
      "WARNING: No Unicode mapping for CID+17 (17) in font Gotham-Book-Identity-H\r\n",
      "Feb 07, 2020 4:44:03 PM org.apache.pdfbox.pdmodel.font.PDType0Font toUnicode\r\n",
      "WARNING: No Unicode mapping for CID+50 (50) in font Gotham-Book-Identity-H\r\n",
      "Feb 07, 2020 4:44:03 PM org.apache.pdfbox.pdmodel.font.PDType0Font toUnicode\r\n",
      "WARNING: No Unicode mapping for CID+87 (87) in font Gotham-Book-Identity-H\r\n",
      "Feb 07, 2020 4:44:03 PM org.apache.pdfbox.pdmodel.font.PDType0Font toUnicode\r\n",
      "WARNING: No Unicode mapping for CID+75 (75) in font Gotham-Book-Identity-H\r\n",
      "Feb 07, 2020 4:44:03 PM org.apache.pdfbox.pdmodel.font.PDType0Font toUnicode\r\n",
      "WARNING: No Unicode mapping for CID+72 (72) in font Gotham-Book-Identity-H\r\n",
      "Feb 07, 2020 4:44:03 PM org.apache.pdfbox.pdmodel.font.PDType0Font toUnicode\r\n",
      "WARNING: No Unicode mapping for CID+85 (85) in font Gotham-Book-Identity-H\r\n",
      "Feb 07, 2020 4:44:03 PM org.apache.pdfbox.pdmodel.font.PDType0Font toUnicode\r\n",
      "WARNING: No Unicode mapping for CID+81 (81) in font Gotham-Book-Identity-H\r\n",
      "Feb 07, 2020 4:44:03 PM org.apache.pdfbox.pdmodel.font.PDType0Font toUnicode\r\n",
      "WARNING: No Unicode mapping for CID+82 (82) in font Gotham-Book-Identity-H\r\n",
      "Feb 07, 2020 4:44:03 PM org.apache.pdfbox.pdmodel.font.PDType0Font toUnicode\r\n",
      "WARNING: No Unicode mapping for CID+16 (16) in font Gotham-Book-Identity-H\r\n",
      "Feb 07, 2020 4:44:03 PM org.apache.pdfbox.pdmodel.font.PDType0Font toUnicode\r\n",
      "WARNING: No Unicode mapping for CID+70 (70) in font Gotham-Book-Identity-H\r\n",
      "Feb 07, 2020 4:44:03 PM org.apache.pdfbox.pdmodel.font.PDType0Font toUnicode\r\n",
      "WARNING: No Unicode mapping for CID+88 (88) in font Gotham-Book-Identity-H\r\n",
      "Feb 07, 2020 4:44:03 PM org.apache.pdfbox.pdmodel.font.PDType0Font toUnicode\r\n",
      "WARNING: No Unicode mapping for CID+343 (343) in font Gotham-Book-Identity-H\r\n",
      "Feb 07, 2020 4:44:03 PM org.apache.pdfbox.pdmodel.font.PDType0Font toUnicode\r\n",
      "WARNING: No Unicode mapping for CID+68 (68) in font Gotham-Book-Identity-H\r\n",
      "Feb 07, 2020 4:44:03 PM org.apache.pdfbox.pdmodel.font.PDType0Font toUnicode\r\n",
      "WARNING: No Unicode mapping for CID+79 (79) in font Gotham-Book-Identity-H\r\n",
      "Feb 07, 2020 4:44:03 PM org.apache.pdfbox.pdmodel.font.PDType0Font toUnicode\r\n",
      "WARNING: No Unicode mapping for CID+86 (86) in font Gotham-Book-Identity-H\r\n",
      "Feb 07, 2020 4:44:03 PM org.apache.pdfbox.pdmodel.font.PDType0Font toUnicode\r\n",
      "WARNING: No Unicode mapping for CID+89 (89) in font Gotham-Book-Identity-H\r\n",
      "Feb 07, 2020 4:44:03 PM org.apache.pdfbox.pdmodel.font.PDType0Font toUnicode\r\n",
      "WARNING: No Unicode mapping for CID+84 (84) in font Gotham-Book-Identity-H\r\n",
      "Feb 07, 2020 4:44:03 PM org.apache.pdfbox.pdmodel.font.PDType0Font toUnicode\r\n",
      "WARNING: No Unicode mapping for CID+92 (92) in font Gotham-Book-Identity-H\r\n",
      "Feb 07, 2020 4:44:03 PM org.apache.pdfbox.pdmodel.font.PDType0Font toUnicode\r\n",
      "WARNING: No Unicode mapping for CID+69 (69) in font Gotham-Book-Identity-H\r\n",
      "Feb 07, 2020 4:44:03 PM org.apache.pdfbox.pdmodel.font.PDType0Font toUnicode\r\n",
      "WARNING: No Unicode mapping for CID+54 (54) in font Gotham-Book-Identity-H\r\n",
      "Feb 07, 2020 4:44:03 PM org.apache.pdfbox.pdmodel.font.PDType0Font toUnicode\r\n",
      "WARNING: No Unicode mapping for CID+80 (80) in font Gotham-Book-Identity-H\r\n",
      "Feb 07, 2020 4:44:03 PM org.apache.pdfbox.pdmodel.font.PDType0Font toUnicode\r\n",
      "WARNING: No Unicode mapping for CID+83 (83) in font Gotham-Book-Identity-H\r\n",
      "Feb 07, 2020 4:44:03 PM org.apache.pdfbox.pdmodel.font.PDType0Font toUnicode\r\n",
      "WARNING: No Unicode mapping for CID+74 (74) in font Gotham-Book-Identity-H\r\n",
      "Feb 07, 2020 4:44:03 PM org.apache.pdfbox.pdmodel.font.PDType0Font toUnicode\r\n",
      "WARNING: No Unicode mapping for CID+71 (71) in font Gotham-Book-Identity-H\r\n",
      "Feb 07, 2020 4:44:03 PM org.apache.pdfbox.pdmodel.font.PDType0Font toUnicode\r\n",
      "WARNING: No Unicode mapping for CID+42 (42) in font Gotham-Book-Identity-H\r\n",
      "Feb 07, 2020 4:44:03 PM org.apache.pdfbox.pdmodel.font.PDType0Font toUnicode\r\n",
      "WARNING: No Unicode mapping for CID+38 (38) in font Gotham-Book-Identity-H\r\n",
      "Feb 07, 2020 4:44:03 PM org.apache.pdfbox.pdmodel.font.PDType0Font toUnicode\r\n",
      "WARNING: No Unicode mapping for CID+73 (73) in font Gotham-Book-Identity-H\r\n",
      "Feb 07, 2020 4:44:03 PM org.apache.pdfbox.pdmodel.font.PDType0Font toUnicode\r\n",
      "WARNING: No Unicode mapping for CID+41 (41) in font Gotham-Book-Identity-H\r\n",
      "Feb 07, 2020 4:44:03 PM org.apache.pdfbox.pdmodel.font.PDType0Font toUnicode\r\n",
      "WARNING: No Unicode mapping for CID+345 (345) in font Gotham-Book-Identity-H\r\n",
      "\n"
     ]
    }
   ],
   "source": [
    "# open the pdf file\n",
    "object = pdf.PdfFileReader(\"Glenmark-AR-2017-18_web-high.pdf\")\n",
    "\n",
    "# get number of pages\n",
    "NumPages = object.getNumPages()\n",
    "\n",
    "# define keyterms\n",
    "String1 = \"Consolidated Balance Sheet\"\n",
    "# String2 = \"Firm Registration Number: 101248W/W-100022\"\n",
    "# String3 = \"\"\n",
    "# extract text and do the search\n",
    "for i in range(0, NumPages):\n",
    "    PageObj = object.getPage(i)\n",
    "    Text = PageObj.extractText() \n",
    "    # print(Text)\n",
    "    if  re.search(String1, Text) != None :\n",
    "        print(\"This is page \" + str(i))\n",
    "        page=object.getPage(i)\n",
    "        pdf_writer=pdf.PdfFileWriter()\n",
    "        pdf_writer.addPage(page)\n",
    "        output=open('balancesheet_1718.pdf','wb')\n",
    "        pdf_writer.write(output)\n",
    "        output.close()\n",
    "        df=read_pdf('balancesheet_1718.pdf')"
   ]
  },
  {
   "cell_type": "code",
   "execution_count": 11,
   "metadata": {
    "ExecuteTime": {
     "end_time": "2020-02-07T11:22:04.237429Z",
     "start_time": "2020-02-07T11:19:33.211122Z"
    }
   },
   "outputs": [],
   "source": [
    "# open the pdf file\n",
    "object = pdf.PdfFileReader(\"Glenmark-AR-2017-18_web-high.pdf\")\n",
    "\n",
    "# get number of pages\n",
    "NumPages = object.getNumPages()\n",
    "\n",
    "# define keyterms\n",
    "String1 = \"Consolidated Statement of Profit and Loss\"\n",
    "# String2 = \"Firm Registration Number: 101248W/W-100022\"\n",
    "# String3 = \"\"\n",
    "# extract text and do the search\n",
    "for i in range(0, NumPages):\n",
    "    PageObj = object.getPage(i)\n",
    "    Text = PageObj.extractText() \n",
    "    # print(Text)\n",
    "    if  re.search(String1, Text) != None :\n",
    "        print(\"This is page \" + str(i))\n",
    "        page=object.getPage(i)\n",
    "        pdf_writer=pdf.PdfFileWriter()\n",
    "        pdf_writer.addPage(page)\n",
    "        output=open('p&l_1718.pdf','wb')\n",
    "        pdf_writer.write(output)\n",
    "        output.close()\n",
    "        df=read_pdf('p&l_1718.pdf')"
   ]
  },
  {
   "cell_type": "code",
   "execution_count": 12,
   "metadata": {
    "ExecuteTime": {
     "end_time": "2020-02-07T11:23:35.176314Z",
     "start_time": "2020-02-07T11:23:17.383380Z"
    }
   },
   "outputs": [
    {
     "name": "stdout",
     "output_type": "stream",
     "text": [
      "This is page 197\n"
     ]
    }
   ],
   "source": [
    "# open the pdf file\n",
    "object = pdf.PdfFileReader(\"Glenmark_AR_2017.pdf\")\n",
    "\n",
    "# get number of pages\n",
    "NumPages = object.getNumPages()\n",
    "\n",
    "# define keyterms\n",
    "String1 = \"CONSOLIDATED BALANCE SHEET\"\n",
    "# String2 = \"Firm Registration Number: 101248W/W-100022\"\n",
    "# String3 = \"\"\n",
    "# extract text and do the search\n",
    "for i in range(0, NumPages):\n",
    "    PageObj = object.getPage(i)\n",
    "    Text = PageObj.extractText() \n",
    "    # print(Text)\n",
    "    if  re.search(String1, Text) != None :\n",
    "        print(\"This is page \" + str(i))\n",
    "        page=object.getPage(i)\n",
    "        pdf_writer=pdf.PdfFileWriter()\n",
    "        pdf_writer.addPage(page)\n",
    "        output=open('balancesheet_1617.pdf','wb')\n",
    "        pdf_writer.write(output)\n",
    "        output.close()"
   ]
  },
  {
   "cell_type": "code",
   "execution_count": 13,
   "metadata": {
    "ExecuteTime": {
     "end_time": "2020-02-07T11:25:11.792967Z",
     "start_time": "2020-02-07T11:24:54.069738Z"
    }
   },
   "outputs": [
    {
     "name": "stdout",
     "output_type": "stream",
     "text": [
      "This is page 198\n"
     ]
    }
   ],
   "source": [
    "# open the pdf file\n",
    "object = pdf.PdfFileReader(\"Glenmark_AR_2017.pdf\")\n",
    "\n",
    "# get number of pages\n",
    "NumPages = object.getNumPages()\n",
    "\n",
    "# define keyterms\n",
    "String1 = \"CONSOLIDATED STATEMENT OF PROFIT AND LOSS\"\n",
    "# String2 = \"Firm Registration Number: 101248W/W-100022\"\n",
    "# String3 = \"\"\n",
    "# extract text and do the search\n",
    "for i in range(0, NumPages):\n",
    "    PageObj = object.getPage(i)\n",
    "    Text = PageObj.extractText() \n",
    "    # print(Text)\n",
    "    if  re.search(String1, Text) != None :\n",
    "        print(\"This is page \" + str(i))\n",
    "        page=object.getPage(i)\n",
    "        pdf_writer=pdf.PdfFileWriter()\n",
    "        pdf_writer.addPage(page)\n",
    "        output=open('p&l_1617.pdf','wb')\n",
    "        pdf_writer.write(output)\n",
    "        output.close()"
   ]
  },
  {
   "cell_type": "code",
   "execution_count": 23,
   "metadata": {
    "ExecuteTime": {
     "end_time": "2020-02-07T11:40:35.260922Z",
     "start_time": "2020-02-07T11:40:17.933721Z"
    }
   },
   "outputs": [
    {
     "name": "stdout",
     "output_type": "stream",
     "text": [
      "This is page 142\n",
      "This is page 200\n",
      "This is page 201\n",
      "This is page 259\n",
      "This is page 260\n"
     ]
    }
   ],
   "source": [
    "# open the pdf file\n",
    "object = pdf.PdfFileReader(\"Glenmark_AR_2017.pdf\")\n",
    "\n",
    "# get number of pages\n",
    "NumPages = object.getNumPages()\n",
    "String2 = \"CONSOLIDATED STATEMENT OF CASH FLOWS\"\n",
    "String3 = \"Consolidated Statement of Cash Flows (Ind AS)\"\n",
    "String4=\"The Cash Flow Statement has been prepared under the “Indirect Method” as set out in Ind AS 7, ‘Statement of Cash Flows’.\"\n",
    "pdf_writer=pdf.PdfFileWriter()\n",
    "for i in range(0, NumPages):\n",
    "    PageObj = object.getPage(i)\n",
    "    Text = PageObj.extractText() \n",
    "    # print(Text)\n",
    "    if  re.search(String2, Text) != None or re.search(String3, Text) != None or re.search(String4, Text) != None :\n",
    "        print(\"This is page \" + str(i))\n",
    "        page=object.getPage(i)\n",
    "        pdf_writer.addPage(page)\n",
    "output=open('cashflow_1617.pdf','wb')\n",
    "pdf_writer.write(output)\n",
    "output.close()"
   ]
  },
  {
   "cell_type": "code",
   "execution_count": null,
   "metadata": {},
   "outputs": [],
   "source": []
  }
 ],
 "metadata": {
  "kernelspec": {
   "display_name": "Python 3",
   "language": "python",
   "name": "python3"
  },
  "language_info": {
   "codemirror_mode": {
    "name": "ipython",
    "version": 3
   },
   "file_extension": ".py",
   "mimetype": "text/x-python",
   "name": "python",
   "nbconvert_exporter": "python",
   "pygments_lexer": "ipython3",
   "version": "3.7.3"
  },
  "toc": {
   "base_numbering": 1,
   "nav_menu": {},
   "number_sections": true,
   "sideBar": true,
   "skip_h1_title": false,
   "title_cell": "Table of Contents",
   "title_sidebar": "Contents",
   "toc_cell": false,
   "toc_position": {},
   "toc_section_display": true,
   "toc_window_display": false
  }
 },
 "nbformat": 4,
 "nbformat_minor": 2
}
